{
 "cells": [
  {
   "cell_type": "code",
   "execution_count": 3,
   "id": "08f91b90",
   "metadata": {},
   "outputs": [
    {
     "name": "stdout",
     "output_type": "stream",
     "text": [
      "{'_id': {'$oid': '68a6c2b22edfc11a25045559', 'created_date': 1755759282}, 'actor_id': {'$oid': '688b02990486383d463c9d1a', 'created_date': 1753940633}, 'uid': '65c01e9c8d3793cf40e2be29', 'query': {'text': \"손흥민 짱 프로축구 토트넘의 '캡틴' 손흥민이 10년간 뛰어온 팀을 떠난다.\", 'actor_id': '688b02990486383d463c9d1a', 'lang': 'auto', 'duration': None, 'max_seconds': 30.0, 'actor': None, 'namespace': None, 'speaker_db': 'union_test+emotion_test_emotion_union', 'speaker_id': 'http://ssfm-v3-0.dev.ssfm.local', 'taco_svc': 'http://ssfm-v3-0.dev.ssfm.local', 'voco_svc': None, 'version': '3.0.0', 'audio_quality': 'high', 'platform': None, 'naturalness': 1.0, 'enable_loudness': False, 'enable_after_effect': False, 'synthesis_type': 'prosody', 'title': None, 'play_id': None, 'use_wavernn': None, 'use_wghd': None, 'style_idx': 0, 'style_label': 'normal-1', 'style_label_version': 'v1', 'speed_x': 1.0, 'pitch': 0, 'tempo': 1.0, 'styletag': None, 'last_pitch': None, 'prosody_ref': None, 'retake': True}, 'status': 'done', 'task_id': '132a3884-8468-4406-b71d-beb4784920d4', 'speak_url': 'https://create-test.icepeak.ai/api/speak/68a6c2b22edfc11a25045559', 'audio': {'url': 'https://create-test.icepeak.ai/files/speak/ZGF0YS9zLzIwMjUvOC8yMS9saWdodC1zcGVha2NvcmUtd29ya2VyLTdmYmQ5ZmQ0ZjctNmR2emwvYWQ4ZmQxZWUtOTRmZi00OTliLWI1ZDctZmJmYjQ2NjdkYTFlLW5vcm1hbC53YXY=', 'extension': 'wav', 'high': {'url': 'https://create-test.icepeak.ai/files/speak/ZGF0YS9zLzIwMjUvOC8yMS9saWdodC1zcGVha2NvcmUtd29ya2VyLTdmYmQ5ZmQ0ZjctNmR2emwvYWQ4ZmQxZWUtOTRmZi00OTliLWI1ZDctZmJmYjQ2NjdkYTFlLW5vcm1hbC53YXY=', 'extension': 'wav'}, 'hd1': {'url': 'https://create-test.icepeak.ai/files/speak/ZGF0YS9zLzIwMjUvOC8yMS9saWdodC1zcGVha2NvcmUtd29ya2VyLTdmYmQ5ZmQ0ZjctNmR2emwvYWQ4ZmQxZWUtOTRmZi00OTliLWI1ZDctZmJmYjQ2NjdkYTFlLndhdg==', 'extension': 'wav'}, 'low': {'url': 'https://create-test.icepeak.ai/files/speak/ZGF0YS9zLzIwMjUvOC8yMS9saWdodC1zcGVha2NvcmUtd29ya2VyLTdmYmQ5ZmQ0ZjctNmR2emwvYWQ4ZmQxZWUtOTRmZi00OTliLWI1ZDctZmJmYjQ2NjdkYTFlLWxvdy53YXY=', 'extension': 'wav'}}, 'audio_path': 'data/s/2025/8/21/light-speakcore-worker-7fbd9fd4f7-6dvzl/ad8fd1ee-94ff-499b-b5d7-fbfb4667da1e-normal.wav', 'quality': 'high', 'sentence_task_ids': ['1985e438-8d2d-4737-9c44-6fd2b409b3cf'], 'callback': {'status': 'none', 'play_id': {'$oid': None, 'created_date': None}, 'error_msg': None}, 'download': None, 'text_count': 32, 'duration': 4.8, 'prosody_meta': None, 'is_generated_by_api': None, 'seed': 1755759282, 'inference_meta': [{'paragraph_level_language': 'KOR'}], 'is_deleted': None, 'deleted_at': None, 'static_files_deleted': None, 'from': None}\n",
      "https://create-test.icepeak.ai/files/speak/ZGF0YS9zLzIwMjUvOC8yMS9saWdodC1zcGVha2NvcmUtd29ya2VyLTdmYmQ5ZmQ0ZjctNmR2emwvYWQ4ZmQxZWUtOTRmZi00OTliLWI1ZDctZmJmYjQ2NjdkYTFlLW5vcm1hbC53YXY=\n"
     ]
    }
   ],
   "source": [
    "import time\n",
    "\n",
    "import requests\n",
    "\n",
    "sanggoo_token = \"Bearer eyJhbGciOiJSUzI1NiIsImtpZCI6IjU3YmZiMmExMWRkZmZjMGFkMmU2ODE0YzY4NzYzYjhjNjg3NTgxZDgiLCJ0eXAiOiJKV1QifQ.eyJfaWQiOiI2NWMwMWU5YzhkMzc5M2NmNDBlMmJlMjkiLCJhcHByb3ZlZCI6dHJ1ZSwiYXV0aHR5cGUiOiJmaXJlYmFzZSIsInByb3ZpZGVyIjoicGFzc3dvcmQiLCJpc19wYWlkIjp0cnVlLCJoYXNfYWRtaW5fcGVybWlzc2lvbl9zY29wZSI6dHJ1ZSwiaXNzIjoiaHR0cHM6Ly9zZWN1cmV0b2tlbi5nb29nbGUuY29tL3R5cGVjYXN0LWE0YzhmIiwiYXVkIjoidHlwZWNhc3QtYTRjOGYiLCJhdXRoX3RpbWUiOjE3NTU1MzY4MDcsInVzZXJfaWQiOiJvQ21yajBPUzJJVmpQMjFxb2QyRlZGdTJsR2QyIiwic3ViIjoib0NtcmowT1MySVZqUDIxcW9kMkZWRnUybEdkMiIsImlhdCI6MTc1NTc1OTA3NSwiZXhwIjoxNzU1NzYyNjc1LCJlbWFpbCI6InNhbmdnb29AbmVvc2FwaWVuY2UuY29tIiwiZW1haWxfdmVyaWZpZWQiOmZhbHNlLCJmaXJlYmFzZSI6eyJpZGVudGl0aWVzIjp7ImVtYWlsIjpbInNhbmdnb29AbmVvc2FwaWVuY2UuY29tIl19LCJzaWduX2luX3Byb3ZpZGVyIjoiY3VzdG9tIn19.UG__H6qnbLRROq3G_LW96n4Yz4iKSEdAZ0v0f9PJOXk382X8M3qSlbMyrk6lnnLQ4iJd2RjbM30lY--i4FRhaL5szeeQTorRU4sdfaKZ7RHhRZw66__5yZlALHbXEZBHmKI0bpr1X_am1VkoohiwKbCHT34VVb_tYK_6YWRtQIe0VTyeD94XOaIsQFJ5NeOCic-UHUXaV8k3IZGQ_sMBg9scaP6DvqUExJHHpv8Ln13Cq5RbeA93m-09K4BC325J5CZZr8IikEpXX3aD0fcswCN5WFwrHp2_uFx9yLEoBCds-hgN2o6k6rTVilo1rNbEClePjklustGWVC-GE4fMbg\"\n",
    "HEADERS = {\"Authorization\": f\"{sanggoo_token}\"}\n",
    "\n",
    "\n",
    "speak_data = [\n",
    "    {\n",
    "        \"text\": \"손흥민 짱 프로축구 토트넘의 '캡틴' 손흥민이 10년간 뛰어온 팀을 떠난다.\",\n",
    "        \"actor_id\": \"688b02990486383d463c9d1a\",\n",
    "        \"tempo\": 1,\n",
    "        \"pitch\": 0,\n",
    "        \"style_label\": \"normal-1\",\n",
    "        \"style_label_version\": \"v1\",\n",
    "        \"emotion_label\": None,\n",
    "        \"emotion_scale\": 1,\n",
    "        \"previous_text\": \"진짜 행복하고 이렇게 기분이 좋을 수가 없어. 너무 좋아\",\n",
    "        \"next_text\": \"정말 기분좋아\",\n",
    "        \"lang\": \"auto\",\n",
    "        \"mode\": \"one-vocoder\",\n",
    "        \"retake\": True,\n",
    "        \"adjust_lastword\": 0,\n",
    "    }\n",
    "]\n",
    "\n",
    "\n",
    "host = \"https://dev.icepeak.ai\"\n",
    "\n",
    "speak_response = requests.post(\n",
    "    f\"{host}/api/speak/batch/post\", headers=HEADERS, json=speak_data\n",
    ")\n",
    "r = speak_response.json()\n",
    "speak_urls = r.get(\"result\").get(\"speak_urls\")\n",
    "\n",
    "output_file_name = \"output3.wav\"\n",
    "\n",
    "if speak_urls:\n",
    "    for _ in range(20):\n",
    "        poll_response = requests.post(\n",
    "            f\"{host}/api/speak/batch/get\", headers=HEADERS, json=speak_urls\n",
    "        )\n",
    "\n",
    "        poll_result = poll_response.json()[\"result\"][0]\n",
    "        if poll_result[\"status\"] == \"done\":\n",
    "            print(poll_result)\n",
    "            print(poll_result[\"audio\"][\"url\"])\n",
    "            audio_response = requests.get(\n",
    "                poll_result[\"audio\"][\"url\"] + \"/cloudfront\", headers=HEADERS\n",
    "            )\n",
    "            audio_response_json = audio_response.json()\n",
    "            real_audio_url = audio_response_json[\"result\"]\n",
    "            real_audio_response = requests.get(real_audio_url)\n",
    "            with open(f\"{output_file_name}\", \"wb\") as audio_file:\n",
    "                audio_file.write(real_audio_response.content)\n",
    "            break\n",
    "\n",
    "        time.sleep(0.5)"
   ]
  },
  {
   "cell_type": "code",
   "execution_count": null,
   "id": "29e25088",
   "metadata": {},
   "outputs": [],
   "source": []
  },
  {
   "cell_type": "markdown",
   "id": "4108954e",
   "metadata": {},
   "source": []
  }
 ],
 "metadata": {
  "kernelspec": {
   "display_name": "venv-op",
   "language": "python",
   "name": "python3"
  },
  "language_info": {
   "codemirror_mode": {
    "name": "ipython",
    "version": 3
   },
   "file_extension": ".py",
   "mimetype": "text/x-python",
   "name": "python",
   "nbconvert_exporter": "python",
   "pygments_lexer": "ipython3",
   "version": "3.12.1"
  }
 },
 "nbformat": 4,
 "nbformat_minor": 5
}
